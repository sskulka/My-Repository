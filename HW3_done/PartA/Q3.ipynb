{
 "cells": [
  {
   "cell_type": "code",
   "execution_count": 3,
   "id": "55b17073",
   "metadata": {},
   "outputs": [],
   "source": [
    "import numpy as np\n",
    "# Definition for singly-linked list.\n",
    "class ListNode:\n",
    "    def __init__(self, val=0, next=None):\n",
    "        self.val = val\n",
    "        self.next = next"
   ]
  },
  {
   "cell_type": "code",
   "execution_count": 53,
   "id": "2715964b",
   "metadata": {},
   "outputs": [
    {
     "name": "stdout",
     "output_type": "stream",
     "text": [
      "a is [2, 4, 3]\n",
      "b is [5, 6, 4]\n",
      "[8, 0, 7]\n",
      "<__main__.ListNode object at 0x000001A8F7E1A788>\n",
      "8\n",
      "<__main__.ListNode object at 0x000001A8F7E1AF08>\n",
      "0\n",
      "<__main__.ListNode object at 0x000001A8F7E1A308>\n",
      "7\n"
     ]
    }
   ],
   "source": [
    "l11 = ListNode(val=2)\n",
    "l12 = ListNode(val=4)\n",
    "l13 = ListNode(val=3)\n",
    "l11.next = l12\n",
    "l12.next = l13\n",
    "\n",
    "l21 = ListNode(5)\n",
    "l22 = ListNode(6)\n",
    "l23 = ListNode(4)\n",
    "l21.next = l22\n",
    "l22.next = l23\n",
    "\n",
    "soln = Solution(l11, l21)\n",
    "lsoln = soln.addTwoNumbers(l11, l21)\n",
    "print(lsoln)\n",
    "\n",
    "#printing value of output linked list\n",
    "temp=lsoln\n",
    "while(temp.next!=None):\n",
    "    print(temp.val)\n",
    "    print(temp.next)\n",
    "    temp=temp.next\n",
    "print(temp.val)"
   ]
  },
  {
   "cell_type": "code",
   "execution_count": 52,
   "id": "d4d8d07a",
   "metadata": {},
   "outputs": [],
   "source": [
    "#defining the function for adding two linked lists\n",
    "class Solution:\n",
    "    def __init__(self,l1: ListNode, l2: ListNode):\n",
    "        self.l1=l1\n",
    "        self.l2=l2\n",
    "    \n",
    "    def addTwoNumbers(self, l1: ListNode, l2: ListNode) -> ListNode:\n",
    "        #converting l1 to array\n",
    "        self.l1=l1\n",
    "        self.l2=l2\n",
    "        a = []\n",
    "        while(l1.next!=None):\n",
    "            a.append(l1.val)\n",
    "            l1=l1.next\n",
    "        a.append(l1.val)\n",
    "        print(\"a is\",a)\n",
    "\n",
    "        #converting l2 to array\n",
    "        b = []\n",
    "        while(l2.next!=None):\n",
    "            b.append(l2.val)\n",
    "            l2=l2.next\n",
    "        b.append(l2.val)\n",
    "        print(\"b is\",b)\n",
    "        \n",
    "        #converting lists into numbers for addition\n",
    "        aLen = a.__len__()\n",
    "        num1=0\n",
    "        for i in reversed(a):\n",
    "            for j in range(1, aLen, 1):\n",
    "                i=i*10\n",
    "            num1 = num1+i\n",
    "            aLen-=1\n",
    "            \n",
    "        \n",
    "        #converting lists into numbers for addition\n",
    "        bLen = b.__len__()\n",
    "        num2=0\n",
    "        for i in reversed(b):\n",
    "            for j in range(1, bLen, 1):\n",
    "                i=i*10\n",
    "            num2 = num2+i\n",
    "            bLen-=1\n",
    "            \n",
    "         \n",
    "        #getting the sum\n",
    "        num3=num1+num2\n",
    "        \n",
    "        #splitting digits from the sum into a list\n",
    "        num3Arr = [int(a) for a in str(num3)]\n",
    "        print(num3Arr)\n",
    "        \n",
    "        solLen = b.__len__()\n",
    "        \n",
    "        l31 = ListNode(val=num3Arr[solLen-solLen])\n",
    "        l32 = ListNode(val=num3Arr[(solLen-solLen)+1])\n",
    "        l33 = ListNode(val=num3Arr[(solLen-solLen)+2])\n",
    "        l31.next = l32\n",
    "        l32.next = l33\n",
    "        \n",
    "        return l31"
   ]
  },
  {
   "cell_type": "code",
   "execution_count": null,
   "id": "18226e3b",
   "metadata": {},
   "outputs": [],
   "source": []
  }
 ],
 "metadata": {
  "kernelspec": {
   "display_name": "shubh2",
   "language": "python",
   "name": "shubh2"
  },
  "language_info": {
   "codemirror_mode": {
    "name": "ipython",
    "version": 3
   },
   "file_extension": ".py",
   "mimetype": "text/x-python",
   "name": "python",
   "nbconvert_exporter": "python",
   "pygments_lexer": "ipython3",
   "version": "3.7.11"
  }
 },
 "nbformat": 4,
 "nbformat_minor": 5
}
